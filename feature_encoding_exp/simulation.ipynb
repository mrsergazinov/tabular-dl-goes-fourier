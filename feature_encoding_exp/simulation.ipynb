{
 "cells": [
  {
   "cell_type": "code",
   "execution_count": null,
   "metadata": {},
   "outputs": [],
   "source": [
    "import numpy as np\n",
    "\n",
    "def generate_dataset(n, p):\n",
    "    # Generate mean and covariance matrix\n",
    "    mean = np.zeros(p)\n",
    "    cov_matrix = np.random.rand(p, p)\n",
    "    cov_matrix = np.dot(cov_matrix, cov_matrix.T)  # Ensure positive semi-definiteness\n",
    "\n",
    "    # Generate features with dependencies\n",
    "    X = np.random.multivariate_normal(mean, cov_matrix, n)\n",
    "\n",
    "    # Generate alpha coefficients\n",
    "    alpha = np.random.randn(p)\n",
    "\n",
    "    # Define Gaussian kernel function\n",
    "    def gaussian_kernel(x1, x2, sigma=1.0):\n",
    "        return np.exp(-((x1 - x2) ** 2) / (2 * sigma ** 2))\n",
    "\n",
    "    # Compute logits\n",
    "    logits = np.zeros(n)\n",
    "    for i in range(n):\n",
    "        for j in range(p):\n",
    "            kernel_sum = np.sum(gaussian_kernel(X[:, j], X[i, j]))\n",
    "            logits[i] += alpha[j] * kernel_sum\n",
    "\n",
    "    # Sample y from Bernoulli distribution with computed logits\n",
    "    probabilities = 1 / (1 + np.exp(-logits))\n",
    "    y = np.random.binomial(1, probabilities)\n",
    "\n",
    "    return X, y"
   ]
  }
 ],
 "metadata": {
  "kernelspec": {
   "display_name": "Python 3 (ipykernel)",
   "language": "python",
   "name": "python3"
  }
 },
 "nbformat": 4,
 "nbformat_minor": 2
}
