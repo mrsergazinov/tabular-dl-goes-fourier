{
 "cells": [
  {
   "cell_type": "code",
   "execution_count": null,
   "metadata": {},
   "outputs": [],
   "source": [
    "import yaml\n",
    "import os\n",
    "from collections import defaultdict\n",
    "os.chdir('/home/mrsergazinov/TabLLM/')\n",
    "from train_eval import set_seed, load_data, preprocess_data, train_and_evaluate_model"
   ]
  },
  {
   "cell_type": "code",
   "execution_count": null,
   "metadata": {},
   "outputs": [],
   "source": [
    "from encoders.numEncoders import (\n",
    "    FourierFeatures,\n",
    "    FourierFeaturesSq, \n",
    "    BinningFeatures, \n",
    "    ComboFeatures,\n",
    "    SquareScalingFeatures,\n",
    ")\n",
    "SEEDS = [42, 7, 123, 2020, 999, 77, 88, 1010, 2021, 3030]\n",
    "for seed in SEEDS:\n",
    "        set_seed(seed)\n",
    "\n",
    "        params = {\n",
    "                'dataset_name': 'otto_group',\n",
    "                'model_name': 'MLP',\n",
    "                'num_encoder': 'FourierFeatures',\n",
    "                'num_encoder_trainable': False,\n",
    "                'scaler': 'SquareScalingFeatures',\n",
    "                'n_run': 1,\n",
    "                'random_state': seed,\n",
    "                'test_size': 0.2,\n",
    "        }\n",
    "\n",
    "        if params['num_encoder'] is not None:\n",
    "                path = f'configs/{params[\"model_name\"]}_{params[\"num_encoder\"]}_{params[\"scaler\"]}_{params[\"num_encoder_trainable\"]}_{params[\"dataset_name\"]}.yaml'\n",
    "        else:\n",
    "                path = f'configs/{params[\"model_name\"]}_{params[\"dataset_name\"]}.yaml'\n",
    "        with open(path, 'r') as file:\n",
    "                config = yaml.safe_load(file)\n",
    "\n",
    "        X, y, task_type = load_data(params)\n",
    "        (y_train, \n",
    "        y_val, y_test, \n",
    "        X_train_num, \n",
    "        X_val_num, \n",
    "        X_test_num, \n",
    "        X_train_cat, \n",
    "        X_val_cat, \n",
    "        X_test_cat) = preprocess_data(X, y, task_type, params)\n",
    "        metric = train_and_evaluate_model(\n",
    "                X_train_num=X_train_num,\n",
    "                X_test_num=X_test_num,\n",
    "                X_train_cat=X_train_cat,\n",
    "                X_test_cat=X_test_cat,\n",
    "                y_train=y_train,\n",
    "                y_test=y_test,\n",
    "                task_type=task_type,\n",
    "                config=config,\n",
    "                params=params,\n",
    "                verbose_training=False,\n",
    "        )\n",
    "        print(metric)"
   ]
  }
 ],
 "metadata": {
  "kernelspec": {
   "display_name": "Python 3 (ipykernel)",
   "language": "python",
   "name": "python3"
  }
 },
 "nbformat": 4,
 "nbformat_minor": 2
}
